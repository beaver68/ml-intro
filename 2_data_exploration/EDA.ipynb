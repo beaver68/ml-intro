{
 "cells": [
  {
   "cell_type": "code",
   "execution_count": 1,
   "id": "b662cd62",
   "metadata": {},
   "outputs": [],
   "source": [
    "import pandas as pd\n",
    "import seaborn as sns\n",
    "from matplotlib import pyplot as plt\n",
    "\n",
    "%matplotlib inline"
   ]
  },
  {
   "cell_type": "markdown",
   "id": "50120154",
   "metadata": {},
   "source": [
    "# CONTEXT"
   ]
  },
  {
   "cell_type": "markdown",
   "id": "172b91c4",
   "metadata": {},
   "source": [
    "### The dataset is used for this competition is synthetic but based on a real dataset (in this case, the actual Titanic data!) and generated using a CTGAN.\n",
    "### link: https://www.kaggle.com/c/tabular-playground-series-apr-2021/data "
   ]
  },
  {
   "cell_type": "markdown",
   "id": "ec5e306b",
   "metadata": {},
   "source": [
    "## Data Dictionary"
   ]
  },
  {
   "cell_type": "markdown",
   "id": "0026729d",
   "metadata": {},
   "source": [
    "| Variable\t| Definition| Key |\n",
    "| --- | --- | --- |\n",
    "| survival | Survival | 0 = No, 1 = Yes |\n",
    "| pclass | Ticket class | 1 = 1st, 2 = 2nd, 3 = 3rd |\n",
    "| sex| Sex | |\n",
    "| Age | Age in years | |\n",
    "| sibsp| of siblings / spouses aboard the Titanic | \n",
    "| parch\t| # of parents / children aboard the Titanic |\t\n",
    "| ticket |Ticket number\t| \n",
    "| fare | Passenger fare\t|\n",
    "| cabin | Cabin number |\t\n",
    "| embarked | Port of Embarkation | C = Cherbourg, Q = Queenstown, S = Southampton |"
   ]
  },
  {
   "cell_type": "markdown",
   "id": "b115c026",
   "metadata": {},
   "source": [
    "# Data quality assessment"
   ]
  },
  {
   "cell_type": "markdown",
   "id": "029f0c10",
   "metadata": {},
   "source": [
    "## Download data"
   ]
  },
  {
   "cell_type": "code",
   "execution_count": 2,
   "id": "00ba1adb",
   "metadata": {},
   "outputs": [
    {
     "name": "stdout",
     "output_type": "stream",
     "text": [
      "(100000, 11)\n"
     ]
    },
    {
     "data": {
      "text/html": [
       "<div>\n",
       "<style scoped>\n",
       "    .dataframe tbody tr th:only-of-type {\n",
       "        vertical-align: middle;\n",
       "    }\n",
       "\n",
       "    .dataframe tbody tr th {\n",
       "        vertical-align: top;\n",
       "    }\n",
       "\n",
       "    .dataframe thead th {\n",
       "        text-align: right;\n",
       "    }\n",
       "</style>\n",
       "<table border=\"1\" class=\"dataframe\">\n",
       "  <thead>\n",
       "    <tr style=\"text-align: right;\">\n",
       "      <th></th>\n",
       "      <th>Survived</th>\n",
       "      <th>Pclass</th>\n",
       "      <th>Name</th>\n",
       "      <th>Sex</th>\n",
       "      <th>Age</th>\n",
       "      <th>SibSp</th>\n",
       "      <th>Parch</th>\n",
       "      <th>Ticket</th>\n",
       "      <th>Fare</th>\n",
       "      <th>Cabin</th>\n",
       "      <th>Embarked</th>\n",
       "    </tr>\n",
       "    <tr>\n",
       "      <th>PassengerId</th>\n",
       "      <th></th>\n",
       "      <th></th>\n",
       "      <th></th>\n",
       "      <th></th>\n",
       "      <th></th>\n",
       "      <th></th>\n",
       "      <th></th>\n",
       "      <th></th>\n",
       "      <th></th>\n",
       "      <th></th>\n",
       "      <th></th>\n",
       "    </tr>\n",
       "  </thead>\n",
       "  <tbody>\n",
       "    <tr>\n",
       "      <th>0</th>\n",
       "      <td>1</td>\n",
       "      <td>1</td>\n",
       "      <td>Oconnor, Frankie</td>\n",
       "      <td>male</td>\n",
       "      <td>NaN</td>\n",
       "      <td>2</td>\n",
       "      <td>0</td>\n",
       "      <td>209245</td>\n",
       "      <td>27.14</td>\n",
       "      <td>C12239</td>\n",
       "      <td>S</td>\n",
       "    </tr>\n",
       "    <tr>\n",
       "      <th>1</th>\n",
       "      <td>0</td>\n",
       "      <td>3</td>\n",
       "      <td>Bryan, Drew</td>\n",
       "      <td>male</td>\n",
       "      <td>NaN</td>\n",
       "      <td>0</td>\n",
       "      <td>0</td>\n",
       "      <td>27323</td>\n",
       "      <td>13.35</td>\n",
       "      <td>NaN</td>\n",
       "      <td>S</td>\n",
       "    </tr>\n",
       "    <tr>\n",
       "      <th>2</th>\n",
       "      <td>0</td>\n",
       "      <td>3</td>\n",
       "      <td>Owens, Kenneth</td>\n",
       "      <td>male</td>\n",
       "      <td>0.33</td>\n",
       "      <td>1</td>\n",
       "      <td>2</td>\n",
       "      <td>CA 457703</td>\n",
       "      <td>71.29</td>\n",
       "      <td>NaN</td>\n",
       "      <td>S</td>\n",
       "    </tr>\n",
       "    <tr>\n",
       "      <th>3</th>\n",
       "      <td>0</td>\n",
       "      <td>3</td>\n",
       "      <td>Kramer, James</td>\n",
       "      <td>male</td>\n",
       "      <td>19.00</td>\n",
       "      <td>0</td>\n",
       "      <td>0</td>\n",
       "      <td>A. 10866</td>\n",
       "      <td>13.04</td>\n",
       "      <td>NaN</td>\n",
       "      <td>S</td>\n",
       "    </tr>\n",
       "    <tr>\n",
       "      <th>4</th>\n",
       "      <td>1</td>\n",
       "      <td>3</td>\n",
       "      <td>Bond, Michael</td>\n",
       "      <td>male</td>\n",
       "      <td>25.00</td>\n",
       "      <td>0</td>\n",
       "      <td>0</td>\n",
       "      <td>427635</td>\n",
       "      <td>7.76</td>\n",
       "      <td>NaN</td>\n",
       "      <td>S</td>\n",
       "    </tr>\n",
       "  </tbody>\n",
       "</table>\n",
       "</div>"
      ],
      "text/plain": [
       "             Survived  Pclass              Name   Sex    Age  SibSp  Parch  \\\n",
       "PassengerId                                                                  \n",
       "0                   1       1  Oconnor, Frankie  male    NaN      2      0   \n",
       "1                   0       3       Bryan, Drew  male    NaN      0      0   \n",
       "2                   0       3    Owens, Kenneth  male   0.33      1      2   \n",
       "3                   0       3     Kramer, James  male  19.00      0      0   \n",
       "4                   1       3     Bond, Michael  male  25.00      0      0   \n",
       "\n",
       "                Ticket   Fare   Cabin Embarked  \n",
       "PassengerId                                     \n",
       "0               209245  27.14  C12239        S  \n",
       "1                27323  13.35     NaN        S  \n",
       "2            CA 457703  71.29     NaN        S  \n",
       "3             A. 10866  13.04     NaN        S  \n",
       "4               427635   7.76     NaN        S  "
      ]
     },
     "execution_count": 2,
     "metadata": {},
     "output_type": "execute_result"
    }
   ],
   "source": [
    "df = pd.read_csv('train.csv', index_col = ['PassengerId'])\n",
    "print(df.shape)\n",
    "df.head()"
   ]
  },
  {
   "cell_type": "markdown",
   "id": "f86b9abb",
   "metadata": {},
   "source": [
    "## Describe data"
   ]
  },
  {
   "cell_type": "code",
   "execution_count": 3,
   "id": "1ad6df57",
   "metadata": {},
   "outputs": [
    {
     "data": {
      "text/html": [
       "<div>\n",
       "<style scoped>\n",
       "    .dataframe tbody tr th:only-of-type {\n",
       "        vertical-align: middle;\n",
       "    }\n",
       "\n",
       "    .dataframe tbody tr th {\n",
       "        vertical-align: top;\n",
       "    }\n",
       "\n",
       "    .dataframe thead th {\n",
       "        text-align: right;\n",
       "    }\n",
       "</style>\n",
       "<table border=\"1\" class=\"dataframe\">\n",
       "  <thead>\n",
       "    <tr style=\"text-align: right;\">\n",
       "      <th></th>\n",
       "      <th>Survived</th>\n",
       "      <th>Pclass</th>\n",
       "      <th>Age</th>\n",
       "      <th>SibSp</th>\n",
       "      <th>Parch</th>\n",
       "      <th>Fare</th>\n",
       "    </tr>\n",
       "  </thead>\n",
       "  <tbody>\n",
       "    <tr>\n",
       "      <th>count</th>\n",
       "      <td>100000.000000</td>\n",
       "      <td>100000.000000</td>\n",
       "      <td>96708.000000</td>\n",
       "      <td>100000.000000</td>\n",
       "      <td>100000.000000</td>\n",
       "      <td>99866.00000</td>\n",
       "    </tr>\n",
       "    <tr>\n",
       "      <th>mean</th>\n",
       "      <td>0.427740</td>\n",
       "      <td>2.106910</td>\n",
       "      <td>38.355472</td>\n",
       "      <td>0.397690</td>\n",
       "      <td>0.454560</td>\n",
       "      <td>43.92933</td>\n",
       "    </tr>\n",
       "    <tr>\n",
       "      <th>std</th>\n",
       "      <td>0.494753</td>\n",
       "      <td>0.837727</td>\n",
       "      <td>18.313556</td>\n",
       "      <td>0.862566</td>\n",
       "      <td>0.950076</td>\n",
       "      <td>69.58882</td>\n",
       "    </tr>\n",
       "    <tr>\n",
       "      <th>min</th>\n",
       "      <td>0.000000</td>\n",
       "      <td>1.000000</td>\n",
       "      <td>0.080000</td>\n",
       "      <td>0.000000</td>\n",
       "      <td>0.000000</td>\n",
       "      <td>0.68000</td>\n",
       "    </tr>\n",
       "    <tr>\n",
       "      <th>25%</th>\n",
       "      <td>0.000000</td>\n",
       "      <td>1.000000</td>\n",
       "      <td>25.000000</td>\n",
       "      <td>0.000000</td>\n",
       "      <td>0.000000</td>\n",
       "      <td>10.04000</td>\n",
       "    </tr>\n",
       "    <tr>\n",
       "      <th>50%</th>\n",
       "      <td>0.000000</td>\n",
       "      <td>2.000000</td>\n",
       "      <td>39.000000</td>\n",
       "      <td>0.000000</td>\n",
       "      <td>0.000000</td>\n",
       "      <td>24.46000</td>\n",
       "    </tr>\n",
       "    <tr>\n",
       "      <th>75%</th>\n",
       "      <td>1.000000</td>\n",
       "      <td>3.000000</td>\n",
       "      <td>53.000000</td>\n",
       "      <td>1.000000</td>\n",
       "      <td>1.000000</td>\n",
       "      <td>33.50000</td>\n",
       "    </tr>\n",
       "    <tr>\n",
       "      <th>max</th>\n",
       "      <td>1.000000</td>\n",
       "      <td>3.000000</td>\n",
       "      <td>87.000000</td>\n",
       "      <td>8.000000</td>\n",
       "      <td>9.000000</td>\n",
       "      <td>744.66000</td>\n",
       "    </tr>\n",
       "  </tbody>\n",
       "</table>\n",
       "</div>"
      ],
      "text/plain": [
       "            Survived         Pclass           Age          SibSp  \\\n",
       "count  100000.000000  100000.000000  96708.000000  100000.000000   \n",
       "mean        0.427740       2.106910     38.355472       0.397690   \n",
       "std         0.494753       0.837727     18.313556       0.862566   \n",
       "min         0.000000       1.000000      0.080000       0.000000   \n",
       "25%         0.000000       1.000000     25.000000       0.000000   \n",
       "50%         0.000000       2.000000     39.000000       0.000000   \n",
       "75%         1.000000       3.000000     53.000000       1.000000   \n",
       "max         1.000000       3.000000     87.000000       8.000000   \n",
       "\n",
       "               Parch         Fare  \n",
       "count  100000.000000  99866.00000  \n",
       "mean        0.454560     43.92933  \n",
       "std         0.950076     69.58882  \n",
       "min         0.000000      0.68000  \n",
       "25%         0.000000     10.04000  \n",
       "50%         0.000000     24.46000  \n",
       "75%         1.000000     33.50000  \n",
       "max         9.000000    744.66000  "
      ]
     },
     "execution_count": 3,
     "metadata": {},
     "output_type": "execute_result"
    }
   ],
   "source": [
    "df.describe()"
   ]
  },
  {
   "cell_type": "code",
   "execution_count": 4,
   "id": "3c051c37",
   "metadata": {},
   "outputs": [
    {
     "data": {
      "text/plain": [
       "0"
      ]
     },
     "execution_count": 4,
     "metadata": {},
     "output_type": "execute_result"
    }
   ],
   "source": [
    "# check duplicate data\n",
    "df.duplicated().sum()"
   ]
  },
  {
   "cell_type": "code",
   "execution_count": 5,
   "id": "4278719a",
   "metadata": {},
   "outputs": [
    {
     "data": {
      "text/plain": [
       "Survived      0.0 %\n",
       "Pclass        0.0 %\n",
       "Name          0.0 %\n",
       "Sex           0.0 %\n",
       "Age          3.29 %\n",
       "SibSp         0.0 %\n",
       "Parch         0.0 %\n",
       "Ticket       4.62 %\n",
       "Fare         0.13 %\n",
       "Cabin       67.87 %\n",
       "Embarked     0.25 %\n",
       "dtype: object"
      ]
     },
     "execution_count": 5,
     "metadata": {},
     "output_type": "execute_result"
    }
   ],
   "source": [
    "# check Nan values\n",
    "df.apply(lambda x: f'{(x.isna().sum()*100/x.shape[0]).round(2)} %')"
   ]
  },
  {
   "cell_type": "markdown",
   "id": "d3ba7f3a",
   "metadata": {},
   "source": [
    "### Comment 1. \n",
    "Feature - Cabin have a big amount of Nan values. We should not use this columns for data anlysis"
   ]
  },
  {
   "cell_type": "markdown",
   "id": "7b701aff",
   "metadata": {},
   "source": [
    "# Data exploration"
   ]
  },
  {
   "cell_type": "markdown",
   "id": "cd2fed43",
   "metadata": {},
   "source": [
    "## Describe Age "
   ]
  },
  {
   "cell_type": "markdown",
   "id": "1e80d504",
   "metadata": {},
   "source": [
    "## 1. Compare Pclass and Survived"
   ]
  },
  {
   "cell_type": "code",
   "execution_count": 6,
   "id": "09f6e00d",
   "metadata": {},
   "outputs": [
    {
     "data": {
      "image/png": "[encoded data removed]",
      "text/plain": [
       "<Figure size 432x288 with 1 Axes>"
      ]
     },
     "metadata": {
      "needs_background": "light"
     },
     "output_type": "display_data"
    }
   ],
   "source": [
    "sns.boxplot(data = df, x = 'Pclass', y = 'Age')\n",
    "plt.title('Barplot PClass and Age')\n",
    "plt.show()"
   ]
  },
  {
   "cell_type": "markdown",
   "id": "73f40301",
   "metadata": {},
   "source": [
    "###  conclusion 1. Средний возраст в каждом классе увеличивается с престижностью класса. Чем выше класс, тем выше возраст. Возможно, это связанно с доходами людей, чем выше доход, тем выше класс он может себе позволить."
   ]
  },
  {
   "cell_type": "markdown",
   "id": "585d39ab",
   "metadata": {},
   "source": [
    "conclusion 1. The average age in each class increases with class prestige. The higher the class, the higher the age. Perhaps this is due to the income of people, the higher the income, the higher the class he can afford."
   ]
  },
  {
   "cell_type": "code",
   "execution_count": 7,
   "id": "f44111d9",
   "metadata": {
    "scrolled": false
   },
   "outputs": [
    {
     "data": {
      "image/png": "[encoded data removed]",
      "text/plain": [
       "<Figure size 4320x3600 with 5 Axes>"
      ]
     },
     "metadata": {
      "needs_background": "light"
     },
     "output_type": "display_data"
    }
   ],
   "source": [
    "fig = plt.figure(figsize = (60,50))\n",
    "size = (10,10)\n",
    "ax1 = plt.subplot2grid(size, (0,0), colspan=1)\n",
    "ax2 = plt.subplot2grid(size, (0,1), colspan=1)\n",
    "ax3 = plt.subplot2grid(size, (0,2), rowspan=1)\n",
    "ax4 = plt.subplot2grid(size, (0,3), colspan=1)\n",
    "ax5 = plt.subplot2grid(size, (1,0), colspan=4)\n",
    "\n",
    "cte = df.groupby('Pclass').mean().reset_index()\n",
    "\n",
    "df['Pclass'].value_counts().plot(kind = 'pie', fontsize=20, ax = ax1)\n",
    "sns.barplot(data = cte, x = 'Pclass',  y = 'Fare', ax = ax2)\n",
    "sns.boxplot(data = df, x = 'Pclass', y = 'Age', ax = ax3, hue = 'Survived')\n",
    "sns.violinplot(data = df, x = 'Pclass', y = 'Age', ax = ax4)\n",
    "sns.histplot(data = df, x = 'Age', hue = 'Pclass', palette=\"muted\", ax=ax5)\n",
    "ax1.set_title('pie chart', fontsize=20)\n",
    "ax2.set_title('Fare by class',fontsize=20)\n",
    "ax3.set_title('boxplot',fontsize=20)\n",
    "ax4.set_title('violinplot',fontsize=20)\n",
    "fig.tight_layout()\n",
    "plt.show()"
   ]
  },
  {
   "cell_type": "code",
   "execution_count": 8,
   "id": "4359cd18",
   "metadata": {},
   "outputs": [
    {
     "data": {
      "text/html": [
       "<div>\n",
       "<style scoped>\n",
       "    .dataframe tbody tr th:only-of-type {\n",
       "        vertical-align: middle;\n",
       "    }\n",
       "\n",
       "    .dataframe tbody tr th {\n",
       "        vertical-align: top;\n",
       "    }\n",
       "\n",
       "    .dataframe thead th {\n",
       "        text-align: right;\n",
       "    }\n",
       "</style>\n",
       "<table border=\"1\" class=\"dataframe\">\n",
       "  <thead>\n",
       "    <tr style=\"text-align: right;\">\n",
       "      <th></th>\n",
       "      <th>Pclass</th>\n",
       "      <th>Fare</th>\n",
       "    </tr>\n",
       "  </thead>\n",
       "  <tbody>\n",
       "    <tr>\n",
       "      <th>Pclass</th>\n",
       "      <td>1.000000</td>\n",
       "      <td>-0.417354</td>\n",
       "    </tr>\n",
       "    <tr>\n",
       "      <th>Fare</th>\n",
       "      <td>-0.417354</td>\n",
       "      <td>1.000000</td>\n",
       "    </tr>\n",
       "  </tbody>\n",
       "</table>\n",
       "</div>"
      ],
      "text/plain": [
       "          Pclass      Fare\n",
       "Pclass  1.000000 -0.417354\n",
       "Fare   -0.417354  1.000000"
      ]
     },
     "execution_count": 8,
     "metadata": {},
     "output_type": "execute_result"
    }
   ],
   "source": [
    "df[['Pclass', 'Fare']].corr()"
   ]
  },
  {
   "cell_type": "markdown",
   "id": "f41d941d",
   "metadata": {},
   "source": [
    "## conclusion 2.  \n",
    "### В 3 классе находилось больше людей по сравнению с другими. Возможно, это связано со стоимостью билета на этот класс (корреляция по модулю 0,41).\n",
    "There were more people in the 3rd grade compared to others. Perhaps this is due to the cost of a ticket for this class (correlation modulo 0.41).\n",
    "## conclusion 3.  \n",
    "### У выживших людей в классах 1 и 2 средний возраст выше, чем у умерших в их же классах.\n",
    "Survivors in classes 1 and 2 have a higher average age than those who die in their own classes.\n",
    "## conclusion 3.  \n",
    "### В 1 классе мода в возрасте в промежутке от 48 до 56 лет. ( conclusion 1) Во 2 и третьем классе наблюдается мода в возрасте от 20 до 30 лет.\n",
    "In the 1st grade, fashion is between the ages of 48 and 56 years. (conclusion 1) In the 2nd and 3rd grades, fashion is observed at the age of 20 to 30 years.\n",
    "## conclusion 4.  \n",
    "### В 3 классе наблюдается бимодальное распределение, для этого класса характерны моды = 5-7 лет и 22-25.\n",
    "In grade 3, a bimodal distribution is observed, this class is characterized by modes = 5-7 years and 22-25."
   ]
  },
  {
   "cell_type": "markdown",
   "id": "5212e3df",
   "metadata": {
    "scrolled": false
   },
   "source": [
    "## 2. Compare Sex and Survived"
   ]
  },
  {
   "cell_type": "code",
   "execution_count": 9,
   "id": "3960fdcc",
   "metadata": {},
   "outputs": [
    {
     "data": {
      "image/png": "[encoded data removed]",
      "text/plain": [
       "<Figure size 432x288 with 1 Axes>"
      ]
     },
     "metadata": {},
     "output_type": "display_data"
    }
   ],
   "source": [
    "df['Sex'].value_counts().plot(kind = 'pie', labels = [name for name in df.Sex.unique()],\n",
    "                                 autopct=\"%.2f\", fontsize=15)\n",
    "plt.title('Sex percentage',fontsize=20)\n",
    "plt.show()"
   ]
  },
  {
   "cell_type": "code",
   "execution_count": 10,
   "id": "f2c044d9",
   "metadata": {},
   "outputs": [
    {
     "data": {
      "image/png": "[encoded data removed]",
      "text/plain": [
       "<Figure size 4320x3600 with 5 Axes>"
      ]
     },
     "metadata": {
      "needs_background": "light"
     },
     "output_type": "display_data"
    }
   ],
   "source": [
    "fig = plt.figure(figsize = (60,50))\n",
    "size = (10,10)\n",
    "ax1 = plt.subplot2grid(size, (0,0), colspan=1)\n",
    "ax2 = plt.subplot2grid(size, (0,1), rowspan=1)\n",
    "ax3 = plt.subplot2grid(size, (0,2), colspan=1)\n",
    "ax4 = plt.subplot2grid(size, (0,3), colspan=1)\n",
    "ax5 = plt.subplot2grid(size, (1,0), colspan=4)\n",
    "\n",
    "cte = df.groupby('Survived')['Sex'].value_counts().unstack()\n",
    "cte['male'].plot(kind = 'pie', autopct=lambda p: '{:.0f}'.format((p/100)*cte['male'].sum()), \n",
    "                 title = 'Analysis Sex and Survived',fontsize=20, labels = ['Die', 'Survived'], ax = ax1)\n",
    "cte['female'].plot(kind = 'pie', autopct=lambda p: '{:.0f}'.format((p/100)*cte['female'].sum()),\n",
    "                   title = 'Analysis Sex and Survived',fontsize=20, labels = ['Die', 'Survived'], ax = ax2)\n",
    "sns.boxplot(data = df, x = 'Sex', y = 'Age', ax = ax3, hue = 'Survived')\n",
    "sns.violinplot(data = df, x = 'Sex', y = 'Age', ax = ax4)\n",
    "sns.histplot(data = df, x = 'Age', hue = 'Sex', palette=\"muted\", ax=ax5)\n",
    "ax1.set_title('Male survived',fontsize=20)\n",
    "ax2.set_title('Female survived',fontsize=20)\n",
    "ax3.set_title('Sex Boxplot',fontsize=20)\n",
    "ax4.set_title('Sex violinplot',fontsize=20)\n",
    "fig.tight_layout()\n",
    "plt.show()"
   ]
  },
  {
   "cell_type": "markdown",
   "id": "74f7b41f",
   "metadata": {},
   "source": [
    "## conclusion 5.  \n",
    "###  Мужчин было больше на борту титаника, однако женщин выжило почти в 3 раза больше.\n",
    "There were more men on board the Titanic, but almost 3 times more women survived.\n",
    "## conclusion 6.  \n",
    "### Средний возраст выжывших превышает умерших в обоих группах.\n",
    "The average age of survivors exceeds that of those who died in both groups.\n",
    "## conclusion 7.  \n",
    "### Гистограмма полов является бимодальным распредлением.\n",
    "The sex histogram is a bimodal distribution."
   ]
  },
  {
   "cell_type": "markdown",
   "id": "d3b6b6b5",
   "metadata": {},
   "source": [
    "## 3. Analysis Parch/SibSp and survived"
   ]
  },
  {
   "cell_type": "code",
   "execution_count": 11,
   "id": "70859bf1",
   "metadata": {},
   "outputs": [],
   "source": [
    "mask_alone = df['Parch'] == 0\n",
    "mask_not_alone = df['Parch'] == 0\n",
    "data1 = df[mask_alone]\n",
    "data2 = df[mask_not_alone]"
   ]
  },
  {
   "cell_type": "code",
   "execution_count": 12,
   "id": "0d8feb67",
   "metadata": {},
   "outputs": [
    {
     "data": {
      "text/html": [
       "<div>\n",
       "<style scoped>\n",
       "    .dataframe tbody tr th:only-of-type {\n",
       "        vertical-align: middle;\n",
       "    }\n",
       "\n",
       "    .dataframe tbody tr th {\n",
       "        vertical-align: top;\n",
       "    }\n",
       "\n",
       "    .dataframe thead th {\n",
       "        text-align: right;\n",
       "    }\n",
       "</style>\n",
       "<table border=\"1\" class=\"dataframe\">\n",
       "  <thead>\n",
       "    <tr style=\"text-align: right;\">\n",
       "      <th></th>\n",
       "      <th>Survived</th>\n",
       "      <th>Pclass</th>\n",
       "      <th>Age</th>\n",
       "      <th>SibSp</th>\n",
       "      <th>Parch</th>\n",
       "      <th>Fare</th>\n",
       "    </tr>\n",
       "    <tr>\n",
       "      <th>parch_fl</th>\n",
       "      <th></th>\n",
       "      <th></th>\n",
       "      <th></th>\n",
       "      <th></th>\n",
       "      <th></th>\n",
       "      <th></th>\n",
       "    </tr>\n",
       "  </thead>\n",
       "  <tbody>\n",
       "    <tr>\n",
       "      <th>0</th>\n",
       "      <td>0.405208</td>\n",
       "      <td>2.130514</td>\n",
       "      <td>40.250072</td>\n",
       "      <td>0.246410</td>\n",
       "      <td>0.000000</td>\n",
       "      <td>41.173608</td>\n",
       "    </tr>\n",
       "    <tr>\n",
       "      <th>1</th>\n",
       "      <td>0.490363</td>\n",
       "      <td>2.041308</td>\n",
       "      <td>33.092646</td>\n",
       "      <td>0.818141</td>\n",
       "      <td>1.717914</td>\n",
       "      <td>51.590071</td>\n",
       "    </tr>\n",
       "  </tbody>\n",
       "</table>\n",
       "</div>"
      ],
      "text/plain": [
       "          Survived    Pclass        Age     SibSp     Parch       Fare\n",
       "parch_fl                                                              \n",
       "0         0.405208  2.130514  40.250072  0.246410  0.000000  41.173608\n",
       "1         0.490363  2.041308  33.092646  0.818141  1.717914  51.590071"
      ]
     },
     "execution_count": 12,
     "metadata": {},
     "output_type": "execute_result"
    }
   ],
   "source": [
    "cte = df.copy()\n",
    "cte['parch_fl'] = [1 if i > 0 else 0 for i in df['Parch']]\n",
    "cte.groupby('parch_fl').mean()"
   ]
  },
  {
   "cell_type": "markdown",
   "id": "68377da3",
   "metadata": {},
   "source": [
    "## conclusion 8.  \n",
    "### Процент выживших кого были родственники на борту в среднем выше, чем у тех у кого не было. Это может быть свзано с тем, что люди, зная о близких на борту действовали слаженнее и менше в падали в панику\n",
    "The percentage of survivors who had relatives on board was on average higher than those who did not. This may be due to the fact that people, knowing about their loved ones on board, acted more harmoniously and fell into a panic less"
   ]
  },
  {
   "cell_type": "code",
   "execution_count": 13,
   "id": "486d166e",
   "metadata": {},
   "outputs": [
    {
     "data": {
      "text/html": [
       "<div>\n",
       "<style scoped>\n",
       "    .dataframe tbody tr th:only-of-type {\n",
       "        vertical-align: middle;\n",
       "    }\n",
       "\n",
       "    .dataframe tbody tr th {\n",
       "        vertical-align: top;\n",
       "    }\n",
       "\n",
       "    .dataframe thead th {\n",
       "        text-align: right;\n",
       "    }\n",
       "</style>\n",
       "<table border=\"1\" class=\"dataframe\">\n",
       "  <thead>\n",
       "    <tr style=\"text-align: right;\">\n",
       "      <th></th>\n",
       "      <th>Survived</th>\n",
       "      <th>Pclass</th>\n",
       "      <th>Age</th>\n",
       "      <th>SibSp</th>\n",
       "      <th>Parch</th>\n",
       "      <th>Fare</th>\n",
       "    </tr>\n",
       "    <tr>\n",
       "      <th>sibsp_fl</th>\n",
       "      <th></th>\n",
       "      <th></th>\n",
       "      <th></th>\n",
       "      <th></th>\n",
       "      <th></th>\n",
       "      <th></th>\n",
       "    </tr>\n",
       "  </thead>\n",
       "  <tbody>\n",
       "    <tr>\n",
       "      <th>0</th>\n",
       "      <td>0.426843</td>\n",
       "      <td>2.166653</td>\n",
       "      <td>40.073836</td>\n",
       "      <td>0.000000</td>\n",
       "      <td>0.277637</td>\n",
       "      <td>38.796176</td>\n",
       "    </tr>\n",
       "    <tr>\n",
       "      <th>1</th>\n",
       "      <td>0.430204</td>\n",
       "      <td>1.942829</td>\n",
       "      <td>33.645226</td>\n",
       "      <td>1.489922</td>\n",
       "      <td>0.940469</td>\n",
       "      <td>58.025961</td>\n",
       "    </tr>\n",
       "  </tbody>\n",
       "</table>\n",
       "</div>"
      ],
      "text/plain": [
       "          Survived    Pclass        Age     SibSp     Parch       Fare\n",
       "sibsp_fl                                                              \n",
       "0         0.426843  2.166653  40.073836  0.000000  0.277637  38.796176\n",
       "1         0.430204  1.942829  33.645226  1.489922  0.940469  58.025961"
      ]
     },
     "execution_count": 13,
     "metadata": {},
     "output_type": "execute_result"
    }
   ],
   "source": [
    "cte = df.copy()\n",
    "cte['sibsp_fl'] = [1 if i > 0 else 0 for i in df['SibSp']]\n",
    "cte.groupby('sibsp_fl').mean()"
   ]
  },
  {
   "cell_type": "code",
   "execution_count": 14,
   "id": "cd33a385",
   "metadata": {},
   "outputs": [
    {
     "data": {
      "text/html": [
       "<div>\n",
       "<style scoped>\n",
       "    .dataframe tbody tr th:only-of-type {\n",
       "        vertical-align: middle;\n",
       "    }\n",
       "\n",
       "    .dataframe tbody tr th {\n",
       "        vertical-align: top;\n",
       "    }\n",
       "\n",
       "    .dataframe thead th {\n",
       "        text-align: right;\n",
       "    }\n",
       "</style>\n",
       "<table border=\"1\" class=\"dataframe\">\n",
       "  <thead>\n",
       "    <tr style=\"text-align: right;\">\n",
       "      <th></th>\n",
       "      <th>SibSp</th>\n",
       "      <th>count</th>\n",
       "      <th>mean</th>\n",
       "    </tr>\n",
       "  </thead>\n",
       "  <tbody>\n",
       "    <tr>\n",
       "      <th>0</th>\n",
       "      <td>0</td>\n",
       "      <td>73308</td>\n",
       "      <td>0.426843</td>\n",
       "    </tr>\n",
       "    <tr>\n",
       "      <th>1</th>\n",
       "      <td>1</td>\n",
       "      <td>19758</td>\n",
       "      <td>0.433748</td>\n",
       "    </tr>\n",
       "    <tr>\n",
       "      <th>2</th>\n",
       "      <td>2</td>\n",
       "      <td>3703</td>\n",
       "      <td>0.453956</td>\n",
       "    </tr>\n",
       "    <tr>\n",
       "      <th>3</th>\n",
       "      <td>3</td>\n",
       "      <td>1635</td>\n",
       "      <td>0.400000</td>\n",
       "    </tr>\n",
       "    <tr>\n",
       "      <th>4</th>\n",
       "      <td>4</td>\n",
       "      <td>1168</td>\n",
       "      <td>0.375856</td>\n",
       "    </tr>\n",
       "    <tr>\n",
       "      <th>5</th>\n",
       "      <td>5</td>\n",
       "      <td>132</td>\n",
       "      <td>0.189394</td>\n",
       "    </tr>\n",
       "    <tr>\n",
       "      <th>6</th>\n",
       "      <td>8</td>\n",
       "      <td>296</td>\n",
       "      <td>0.385135</td>\n",
       "    </tr>\n",
       "  </tbody>\n",
       "</table>\n",
       "</div>"
      ],
      "text/plain": [
       "   SibSp  count      mean\n",
       "0      0  73308  0.426843\n",
       "1      1  19758  0.433748\n",
       "2      2   3703  0.453956\n",
       "3      3   1635  0.400000\n",
       "4      4   1168  0.375856\n",
       "5      5    132  0.189394\n",
       "6      8    296  0.385135"
      ]
     },
     "execution_count": 14,
     "metadata": {},
     "output_type": "execute_result"
    }
   ],
   "source": [
    "t = cte.groupby('SibSp').agg({'Survived': ['count', 'mean']})\n",
    "t.columns = ['count', 'mean']\n",
    "t = t.reset_index()\n",
    "t"
   ]
  },
  {
   "cell_type": "code",
   "execution_count": 15,
   "id": "139ec509",
   "metadata": {},
   "outputs": [
    {
     "data": {
      "text/plain": [
       "<AxesSubplot:xlabel='SibSp', ylabel='mean'>"
      ]
     },
     "execution_count": 15,
     "metadata": {},
     "output_type": "execute_result"
    },
    {
     "data": {
      "image/png": "[encoded data removed]",
      "text/plain": [
       "<Figure size 432x288 with 1 Axes>"
      ]
     },
     "metadata": {
      "needs_background": "light"
     },
     "output_type": "display_data"
    }
   ],
   "source": [
    "sns.lineplot(data = t, x = 'SibSp', y = 'mean')"
   ]
  },
  {
   "cell_type": "markdown",
   "id": "14f3d37a",
   "metadata": {},
   "source": [
    "## conclusion 9.  \n",
    "### Мы видим, что до 3 братьев и систер в среднем выживаемость росла, однако после начала падать в связи с тем, что слишком сложно организованно и слаженно выполнять действия. Кейс с 8 количеством кажется странным и требует дополнительных исследований.\n",
    "We see that up to 3 brothers and sisters, on average, survival increased, but after it began to fall due to the fact that it was too difficult to organize and coordinate actions. The case with 8 counts seems odd and needs more research."
   ]
  },
  {
   "cell_type": "markdown",
   "id": "7eeff609",
   "metadata": {},
   "source": [
    "## 4. Analysis children with 0 parch"
   ]
  },
  {
   "cell_type": "markdown",
   "id": "5a8a4ac9",
   "metadata": {},
   "source": [
    "### Some children travelled only with a nanny, therefore parch=0 for them."
   ]
  },
  {
   "cell_type": "code",
   "execution_count": 16,
   "id": "ab447bb3",
   "metadata": {},
   "outputs": [],
   "source": [
    "dff = df.copy()\n",
    "group1 = dff[(dff['Age'] <= 17) & (dff['Parch'] == 0)]\n",
    "group2 = dff[(dff['Age'] <= 17) & (dff['Parch'] != 0)]\n",
    "data= pd.concat([group1, group2])"
   ]
  },
  {
   "cell_type": "code",
   "execution_count": 17,
   "id": "61e3e68c",
   "metadata": {},
   "outputs": [
    {
     "data": {
      "text/html": [
       "<div>\n",
       "<style scoped>\n",
       "    .dataframe tbody tr th:only-of-type {\n",
       "        vertical-align: middle;\n",
       "    }\n",
       "\n",
       "    .dataframe tbody tr th {\n",
       "        vertical-align: top;\n",
       "    }\n",
       "\n",
       "    .dataframe thead th {\n",
       "        text-align: right;\n",
       "    }\n",
       "</style>\n",
       "<table border=\"1\" class=\"dataframe\">\n",
       "  <thead>\n",
       "    <tr style=\"text-align: right;\">\n",
       "      <th></th>\n",
       "      <th>Survived</th>\n",
       "      <th>Pclass</th>\n",
       "      <th>Age</th>\n",
       "      <th>SibSp</th>\n",
       "      <th>Parch</th>\n",
       "      <th>Fare</th>\n",
       "    </tr>\n",
       "    <tr>\n",
       "      <th>parch_fl</th>\n",
       "      <th></th>\n",
       "      <th></th>\n",
       "      <th></th>\n",
       "      <th></th>\n",
       "      <th></th>\n",
       "      <th></th>\n",
       "    </tr>\n",
       "  </thead>\n",
       "  <tbody>\n",
       "    <tr>\n",
       "      <th>0</th>\n",
       "      <td>0.400830</td>\n",
       "      <td>2.425969</td>\n",
       "      <td>9.379580</td>\n",
       "      <td>0.342482</td>\n",
       "      <td>0.000000</td>\n",
       "      <td>26.315384</td>\n",
       "    </tr>\n",
       "    <tr>\n",
       "      <th>1</th>\n",
       "      <td>0.458251</td>\n",
       "      <td>2.510355</td>\n",
       "      <td>5.677436</td>\n",
       "      <td>1.087719</td>\n",
       "      <td>1.635009</td>\n",
       "      <td>39.981543</td>\n",
       "    </tr>\n",
       "  </tbody>\n",
       "</table>\n",
       "</div>"
      ],
      "text/plain": [
       "          Survived    Pclass       Age     SibSp     Parch       Fare\n",
       "parch_fl                                                             \n",
       "0         0.400830  2.425969  9.379580  0.342482  0.000000  26.315384\n",
       "1         0.458251  2.510355  5.677436  1.087719  1.635009  39.981543"
      ]
     },
     "execution_count": 17,
     "metadata": {},
     "output_type": "execute_result"
    }
   ],
   "source": [
    "data['parch_fl'] = [1 if i > 0 else 0 for i in data['Parch']]\n",
    "data.groupby('parch_fl').mean()"
   ]
  },
  {
   "cell_type": "markdown",
   "id": "6a226b7d",
   "metadata": {},
   "source": [
    "## conclusion 10. \n",
    "### В среднем дети, которые были с родителями выживали больше, чем с няней. Возможно это связано с тем, что няня не могла полностью повлиять на ребенка в экстренной ситуации, как родители или же просто не хотела, т к своя жизнь дороже.\n",
    "On average, children who were with their parents survived more than with a nanny. Perhaps this is due to the fact that the nanny could not fully influence the child in an emergency, like parents, or simply did not want to, because her own life is more expensive."
   ]
  },
  {
   "cell_type": "markdown",
   "id": "b72679cd",
   "metadata": {},
   "source": [
    "## 5. Analysis Embarked"
   ]
  },
  {
   "cell_type": "code",
   "execution_count": 18,
   "id": "fe41efd3",
   "metadata": {},
   "outputs": [
    {
     "data": {
      "text/html": [
       "<div>\n",
       "<style scoped>\n",
       "    .dataframe tbody tr th:only-of-type {\n",
       "        vertical-align: middle;\n",
       "    }\n",
       "\n",
       "    .dataframe tbody tr th {\n",
       "        vertical-align: top;\n",
       "    }\n",
       "\n",
       "    .dataframe thead th {\n",
       "        text-align: right;\n",
       "    }\n",
       "</style>\n",
       "<table border=\"1\" class=\"dataframe\">\n",
       "  <thead>\n",
       "    <tr style=\"text-align: right;\">\n",
       "      <th></th>\n",
       "      <th>Survived</th>\n",
       "      <th>Pclass</th>\n",
       "      <th>Age</th>\n",
       "      <th>SibSp</th>\n",
       "      <th>Parch</th>\n",
       "      <th>Fare</th>\n",
       "    </tr>\n",
       "    <tr>\n",
       "      <th>Embarked</th>\n",
       "      <th></th>\n",
       "      <th></th>\n",
       "      <th></th>\n",
       "      <th></th>\n",
       "      <th></th>\n",
       "      <th></th>\n",
       "    </tr>\n",
       "  </thead>\n",
       "  <tbody>\n",
       "    <tr>\n",
       "      <th>C</th>\n",
       "      <td>0.751296</td>\n",
       "      <td>1.654978</td>\n",
       "      <td>41.850532</td>\n",
       "      <td>0.366972</td>\n",
       "      <td>0.479831</td>\n",
       "      <td>71.549073</td>\n",
       "    </tr>\n",
       "    <tr>\n",
       "      <th>Q</th>\n",
       "      <td>0.596976</td>\n",
       "      <td>1.461283</td>\n",
       "      <td>50.075583</td>\n",
       "      <td>0.287058</td>\n",
       "      <td>0.423304</td>\n",
       "      <td>73.385148</td>\n",
       "    </tr>\n",
       "    <tr>\n",
       "      <th>S</th>\n",
       "      <td>0.315294</td>\n",
       "      <td>2.294709</td>\n",
       "      <td>36.397009</td>\n",
       "      <td>0.415628</td>\n",
       "      <td>0.448939</td>\n",
       "      <td>33.200008</td>\n",
       "    </tr>\n",
       "  </tbody>\n",
       "</table>\n",
       "</div>"
      ],
      "text/plain": [
       "          Survived    Pclass        Age     SibSp     Parch       Fare\n",
       "Embarked                                                              \n",
       "C         0.751296  1.654978  41.850532  0.366972  0.479831  71.549073\n",
       "Q         0.596976  1.461283  50.075583  0.287058  0.423304  73.385148\n",
       "S         0.315294  2.294709  36.397009  0.415628  0.448939  33.200008"
      ]
     },
     "execution_count": 18,
     "metadata": {},
     "output_type": "execute_result"
    }
   ],
   "source": [
    "df.groupby('Embarked').mean()"
   ]
  },
  {
   "cell_type": "markdown",
   "id": "047cba40",
   "metadata": {},
   "source": [
    "## conclusion 11. \n",
    "### Люди с порта С (Cherbourg) выжили в среднем выше, чем люди из остальных портов.\n",
    "People from port C (Cherbourg) survived on average higher than people from other ports."
   ]
  },
  {
   "cell_type": "code",
   "execution_count": 19,
   "id": "bcb90277",
   "metadata": {},
   "outputs": [
    {
     "data": {
      "text/html": [
       "<div>\n",
       "<style scoped>\n",
       "    .dataframe tbody tr th:only-of-type {\n",
       "        vertical-align: middle;\n",
       "    }\n",
       "\n",
       "    .dataframe tbody tr th {\n",
       "        vertical-align: top;\n",
       "    }\n",
       "\n",
       "    .dataframe thead th {\n",
       "        text-align: right;\n",
       "    }\n",
       "</style>\n",
       "<table border=\"1\" class=\"dataframe\">\n",
       "  <thead>\n",
       "    <tr style=\"text-align: right;\">\n",
       "      <th></th>\n",
       "      <th>C</th>\n",
       "      <th>Q</th>\n",
       "      <th>S</th>\n",
       "      <th>Survived</th>\n",
       "    </tr>\n",
       "  </thead>\n",
       "  <tbody>\n",
       "    <tr>\n",
       "      <th>C</th>\n",
       "      <td>1.000000</td>\n",
       "      <td>-0.127877</td>\n",
       "      <td>-0.859231</td>\n",
       "      <td>0.349209</td>\n",
       "    </tr>\n",
       "    <tr>\n",
       "      <th>Q</th>\n",
       "      <td>-0.127877</td>\n",
       "      <td>1.000000</td>\n",
       "      <td>-0.385351</td>\n",
       "      <td>0.081917</td>\n",
       "    </tr>\n",
       "    <tr>\n",
       "      <th>S</th>\n",
       "      <td>-0.859231</td>\n",
       "      <td>-0.385351</td>\n",
       "      <td>1.000000</td>\n",
       "      <td>-0.365716</td>\n",
       "    </tr>\n",
       "    <tr>\n",
       "      <th>Survived</th>\n",
       "      <td>0.349209</td>\n",
       "      <td>0.081917</td>\n",
       "      <td>-0.365716</td>\n",
       "      <td>1.000000</td>\n",
       "    </tr>\n",
       "  </tbody>\n",
       "</table>\n",
       "</div>"
      ],
      "text/plain": [
       "                 C         Q         S  Survived\n",
       "C         1.000000 -0.127877 -0.859231  0.349209\n",
       "Q        -0.127877  1.000000 -0.385351  0.081917\n",
       "S        -0.859231 -0.385351  1.000000 -0.365716\n",
       "Survived  0.349209  0.081917 -0.365716  1.000000"
      ]
     },
     "execution_count": 19,
     "metadata": {},
     "output_type": "execute_result"
    }
   ],
   "source": [
    "cte = pd.get_dummies(df['Embarked'])\n",
    "cte['Survived'] = df['Survived']\n",
    "cte.corr()"
   ]
  },
  {
   "cell_type": "code",
   "execution_count": 20,
   "id": "64e8e8ad",
   "metadata": {},
   "outputs": [
    {
     "data": {
      "text/plain": [
       "0    77813\n",
       "1    22187\n",
       "Name: C, dtype: int64"
      ]
     },
     "execution_count": 20,
     "metadata": {},
     "output_type": "execute_result"
    }
   ],
   "source": [
    "cte['C'].value_counts()"
   ]
  },
  {
   "cell_type": "markdown",
   "id": "18e78b11",
   "metadata": {},
   "source": [
    "## conclusion 12. \n",
    "### Существует высокая взаимосвязь между людьми с порта S (S = Southampton) и Выживаемостью. Исходя из conclusion 11 можно предположить, что большая часть людей с этого порта были обречены на смерть.\n",
    "There is a high correlation between people from Port S (S = Southampton) and Survivability. Based on conclusion 11, it can be assumed that most of the people from this port were doomed to death."
   ]
  },
  {
   "cell_type": "markdown",
   "id": "9ef4e749",
   "metadata": {},
   "source": [
    "# Summary\n",
    "\n",
    "###  - Был проведен анализ данных модифицированных данных.\n",
    "####  - Представлены 12 выводов, подкрепленными графиками, числовыми вычислениями.\n",
    "### - Анализ данных показал несколько аномалий, которые требуют дальнейшего изучения."
   ]
  },
  {
   "cell_type": "code",
   "execution_count": null,
   "id": "cad5a07e",
   "metadata": {},
   "outputs": [],
   "source": []
  },
  {
   "cell_type": "markdown",
   "id": "61aa638f",
   "metadata": {},
   "source": [
    "### Data analysis of the modified data was carried out.\n",
    "#### - 12 conclusions are presented, supported by graphs, numerical calculations.\n",
    "### - Data analysis revealed several anomalies that require further investigation."
   ]
  }
 ],
 "metadata": {
  "kernelspec": {
   "display_name": "Python 3",
   "language": "python",
   "name": "python3"
  },
  "language_info": {
   "codemirror_mode": {
    "name": "ipython",
    "version": 3
   },
   "file_extension": ".py",
   "mimetype": "text/x-python",
   "name": "python",
   "nbconvert_exporter": "python",
   "pygments_lexer": "ipython3",
   "version": "3.8.8"
  }
 },
 "nbformat": 4,
 "nbformat_minor": 5
}
